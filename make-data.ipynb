{
 "cells": [
  {
   "cell_type": "code",
   "execution_count": 4,
   "id": "c8c09d96-fa8d-4830-b314-7ca98f1accd2",
   "metadata": {},
   "outputs": [
    {
     "name": "stdout",
     "output_type": "stream",
     "text": [
      "env: CUDA_VISIBLE_DEVICES=\n"
     ]
    },
    {
     "name": "stderr",
     "output_type": "stream",
     "text": [
      "2023-12-20 12:04:15.226489: I tensorflow/core/util/port.cc:110] oneDNN custom operations are on. You may see slightly different numerical results due to floating-point round-off errors from different computation orders. To turn them off, set the environment variable `TF_ENABLE_ONEDNN_OPTS=0`.\n",
      "2023-12-20 12:04:15.289824: I tensorflow/core/platform/cpu_feature_guard.cc:182] This TensorFlow binary is optimized to use available CPU instructions in performance-critical operations.\n",
      "To enable the following instructions: AVX2 AVX512F AVX512_VNNI AVX512_BF16 AVX_VNNI FMA, in other operations, rebuild TensorFlow with the appropriate compiler flags.\n",
      "2023-12-20 12:04:16.249856: W tensorflow/compiler/tf2tensorrt/utils/py_utils.cc:38] TF-TRT Warning: Could not find TensorRT\n"
     ]
    }
   ],
   "source": [
    "%reload_ext autoreload\n",
    "%autoreload 2\n",
    "%env CUDA_VISIBLE_DEVICES=\n",
    "\n",
    "from torch_snippets import *\n",
    "reset_logger()\n"
   ]
  },
  {
   "cell_type": "code",
   "execution_count": 1,
   "id": "d5b96de8-781a-43db-bdb4-ef59772e6b74",
   "metadata": {},
   "outputs": [
    {
     "name": "stdout",
     "output_type": "stream",
     "text": [
      "/home/ubuntu/data/ubc_fashion\n"
     ]
    }
   ],
   "source": [
    "%cd ~/data/ubc_fashion/"
   ]
  },
  {
   "cell_type": "code",
   "execution_count": 2,
   "id": "259f2863-c33d-416e-b713-234b08718296",
   "metadata": {},
   "outputs": [
    {
     "name": "stdout",
     "output_type": "stream",
     "text": [
      "UBC_test_info.csv         data_crowler.py    \u001b[0m\u001b[01;34mtest_complete\u001b[0m/   \u001b[01;34mtrain_dwpose\u001b[0m/\n",
      "UBC_test_micro_info.csv   fashion_test.txt   \u001b[01;34mtest_dwpose\u001b[0m/\n",
      "UBC_train_info.csv        fashion_train.txt  \u001b[01;34mtrain\u001b[0m/\n",
      "UBC_train_micro_info.csv  \u001b[01;34mtest\u001b[0m/              \u001b[01;34mtrain_complete\u001b[0m/\n"
     ]
    }
   ],
   "source": [
    "ls"
   ]
  },
  {
   "cell_type": "code",
   "execution_count": 4,
   "id": "eb308476-13e0-478a-b653-521ed507e7c7",
   "metadata": {},
   "outputs": [],
   "source": [
    "import shutil"
   ]
  },
  {
   "cell_type": "code",
   "execution_count": 7,
   "id": "2cdd26a9-d452-4e53-81c6-f098fc946534",
   "metadata": {},
   "outputs": [],
   "source": [
    "root = P()\n",
    "variation, n = 'micro', 6\n",
    "splits = 'train', 'test'\n",
    "\n",
    "for split in splits:\n",
    "    og_vid_fldr = root/split\n",
    "    og_pose_fldr = root/f'{split}_dwpose'\n",
    "    og_csv = root/f'UBC_{split}_info.csv'\n",
    "    csv = root/f'UBC_{split}_{variation}_info.csv'\n",
    "\n",
    "    items = []\n",
    "    for ix,item in enumerate(stems(og_vid_fldr)[:n]):\n",
    "        items.append((ix,item))\n",
    "        \n",
    "    pd.DataFrame(items, columns='folder_id folder_name'.split()).to_csv(csv, index=False)"
   ]
  },
  {
   "cell_type": "code",
   "execution_count": null,
   "id": "6736751d-de2e-4c0f-a7d2-889b15325a62",
   "metadata": {},
   "outputs": [],
   "source": []
  }
 ],
 "metadata": {
  "kernelspec": {
   "display_name": "manimate",
   "language": "python",
   "name": "manimate"
  },
  "language_info": {
   "codemirror_mode": {
    "name": "ipython",
    "version": 3
   },
   "file_extension": ".py",
   "mimetype": "text/x-python",
   "name": "python",
   "nbconvert_exporter": "python",
   "pygments_lexer": "ipython3",
   "version": "3.8.5"
  }
 },
 "nbformat": 4,
 "nbformat_minor": 5
}
